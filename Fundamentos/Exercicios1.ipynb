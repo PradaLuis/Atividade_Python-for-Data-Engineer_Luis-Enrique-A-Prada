{
 "cells": [
  {
   "cell_type": "markdown",
   "metadata": {},
   "source": [
    "### Exercícios: Tipos e Estruturas Fundamentais de Dados"
   ]
  },
  {
   "cell_type": "markdown",
   "metadata": {},
   "source": [
    "1. Detectar se a palavra é um palíndromo"
   ]
  },
  {
   "cell_type": "code",
   "execution_count": 1,
   "metadata": {},
   "outputs": [],
   "source": [
    "s = \"A man a plan a canal Panama\""
   ]
  },
  {
   "cell_type": "code",
   "execution_count": 2,
   "metadata": {},
   "outputs": [
    {
     "name": "stdout",
     "output_type": "stream",
     "text": [
      "a man a plan a canal panama\n"
     ]
    }
   ],
   "source": [
    "s1 = s.lower()\n",
    "print(s1)"
   ]
  },
  {
   "cell_type": "code",
   "execution_count": 6,
   "metadata": {},
   "outputs": [],
   "source": [
    "s2 = s1.replace(\" \", \"\")"
   ]
  },
  {
   "cell_type": "code",
   "execution_count": 7,
   "metadata": {},
   "outputs": [
    {
     "data": {
      "text/plain": [
       "'amanaplanacanalpanama'"
      ]
     },
     "execution_count": 7,
     "metadata": {},
     "output_type": "execute_result"
    }
   ],
   "source": [
    "s_invertido = s2[::-1]\n",
    "s_invertido"
   ]
  },
  {
   "cell_type": "code",
   "execution_count": 8,
   "metadata": {},
   "outputs": [
    {
     "data": {
      "text/plain": [
       "True"
      ]
     },
     "execution_count": 8,
     "metadata": {},
     "output_type": "execute_result"
    }
   ],
   "source": [
    "s_invertido == s2"
   ]
  },
  {
   "cell_type": "code",
   "execution_count": 9,
   "metadata": {},
   "outputs": [
    {
     "name": "stdout",
     "output_type": "stream",
     "text": [
      "É um palindromo\n"
     ]
    }
   ],
   "source": [
    "if s_invertido == s2:\n",
    "    print(\"É um palindromo\")\n",
    "else:\n",
    "    print(\"Não é um palíndromo\")"
   ]
  },
  {
   "cell_type": "code",
   "execution_count": 12,
   "metadata": {},
   "outputs": [
    {
     "name": "stdout",
     "output_type": "stream",
     "text": [
      "É um palindromo\n"
     ]
    }
   ],
   "source": [
    "if s.lower().replace(\" \", \"\")[::-1] == s.lower().replace(\" \", \"\"):\n",
    "    print(\"É um palindromo\")\n",
    "else:\n",
    "    print(\"Não é um palíndromo\")"
   ]
  },
  {
   "cell_type": "markdown",
   "metadata": {},
   "source": [
    "2. Dado um número N, validar se ele é par ou ímpar. Printar a mensagem de par ou ímpar para cada elemento da lista a seguir:"
   ]
  },
  {
   "cell_type": "code",
   "execution_count": 14,
   "metadata": {},
   "outputs": [
    {
     "data": {
      "text/plain": [
       "[46, 42, 25, 29, 4, 17, 45, 66, 30, 27]"
      ]
     },
     "execution_count": 14,
     "metadata": {},
     "output_type": "execute_result"
    }
   ],
   "source": [
    "import random\n",
    "lst_numeros = random.sample(range(1, 100), 10)\n",
    "lst_numeros"
   ]
  },
  {
   "cell_type": "code",
   "execution_count": 16,
   "metadata": {},
   "outputs": [
    {
     "name": "stdout",
     "output_type": "stream",
     "text": [
      "46 é um número par\n",
      "42 é um número par\n",
      "25 é um número impar\n",
      "29 é um número impar\n",
      "4 é um número par\n",
      "17 é um número impar\n",
      "45 é um número impar\n",
      "66 é um número par\n",
      "30 é um número par\n",
      "27 é um número impar\n"
     ]
    }
   ],
   "source": [
    "for n in lst_numeros:\n",
    "    if (n % 2 == 0):\n",
    "        print(f\"{n} é um número par\")\n",
    "    else:\n",
    "        print(f\"{n} é um número impar\")"
   ]
  },
  {
   "cell_type": "markdown",
   "metadata": {},
   "source": [
    "3. Seja uma lista com o nome de alunos e suas respectivas notas no seguinte formato: [nome1, nota1, nome2, nota2, .... nomeN, notaN]. Dado um lista de N alunos, determine qual aluno tem a maior nota da classe.\n"
   ]
  },
  {
   "cell_type": "code",
   "execution_count": 17,
   "metadata": {},
   "outputs": [],
   "source": [
    "lista = [\"Isabella\", 89, \"Manuela\", 90, \"Nicolas\", 65, \"Helena\", 79, \"Bernardo\", 45]"
   ]
  },
  {
   "cell_type": "code",
   "execution_count": 21,
   "metadata": {},
   "outputs": [
    {
     "ename": "TypeError",
     "evalue": "'<' not supported between instances of 'int' and 'str'",
     "output_type": "error",
     "traceback": [
      "\u001b[1;31m---------------------------------------------------------------------------\u001b[0m",
      "\u001b[1;31mTypeError\u001b[0m                                 Traceback (most recent call last)",
      "Cell \u001b[1;32mIn[21], line 1\u001b[0m\n\u001b[1;32m----> 1\u001b[0m \u001b[38;5;28msorted\u001b[39m(lista)\n",
      "\u001b[1;31mTypeError\u001b[0m: '<' not supported between instances of 'int' and 'str'"
     ]
    }
   ],
   "source": [
    "sorted(lista)"
   ]
  },
  {
   "cell_type": "code",
   "execution_count": 26,
   "metadata": {},
   "outputs": [
    {
     "name": "stdout",
     "output_type": "stream",
     "text": [
      "[89, 90, 65, 79, 45]\n"
     ]
    }
   ],
   "source": [
    "notas = []\n",
    "for i in range(1, len(lista), 2):\n",
    "    notas.append(lista[i])\n",
    "print(notas)\n"
   ]
  },
  {
   "cell_type": "code",
   "execution_count": 19,
   "metadata": {},
   "outputs": [
    {
     "name": "stdout",
     "output_type": "stream",
     "text": [
      "[89, 90, 65, 79, 45]\n",
      "90\n"
     ]
    }
   ],
   "source": [
    "notas = []\n",
    "#nota_max = 0\n",
    "for obj in lista:\n",
    "    if type(obj) == int:\n",
    "        notas.append(obj)\n",
    "        #if nota_max > obj:\n",
    "        #    nota_max = obj\n",
    "nota_max = max(notas)\n",
    "print(notas)\n",
    "print(nota_max)"
   ]
  },
  {
   "cell_type": "code",
   "execution_count": 23,
   "metadata": {},
   "outputs": [
    {
     "data": {
      "text/plain": [
       "90"
      ]
     },
     "execution_count": 23,
     "metadata": {},
     "output_type": "execute_result"
    }
   ],
   "source": [
    "sorted(notas)[-1]"
   ]
  },
  {
   "cell_type": "code",
   "execution_count": 20,
   "metadata": {},
   "outputs": [
    {
     "name": "stdout",
     "output_type": "stream",
     "text": [
      "Manuela\n"
     ]
    }
   ],
   "source": [
    "ind = lista.index(nota_max)\n",
    "print(lista[ind-1])"
   ]
  },
  {
   "cell_type": "markdown",
   "metadata": {},
   "source": [
    "4. Dado um dicionário com o nome e as notas de matemática de alguns alunos e sabendo que a média mínima de aprovação é 60, construa um novo dicionário na seguintes estrutura: '{nome:aprovado, nome: reprovado}'."
   ]
  },
  {
   "cell_type": "code",
   "execution_count": 41,
   "metadata": {},
   "outputs": [],
   "source": [
    "notas = {\n",
    "    \"Isabella\": [43, 34, 88, 83],\n",
    "    \"Manuela\": [72, 74, 70, 64],\n",
    "    \"Nicolas\":[69, 73, 99, 65],\n",
    "    \"Helena\": [46, 61, 68, 99],\n",
    "    \"Bernardo\": [60, 26, 90, 55]\n",
    "}"
   ]
  },
  {
   "cell_type": "code",
   "execution_count": 29,
   "metadata": {},
   "outputs": [
    {
     "data": {
      "text/plain": [
       "[43, 34, 88, 83]"
      ]
     },
     "execution_count": 29,
     "metadata": {},
     "output_type": "execute_result"
    }
   ],
   "source": [
    "(notas[\"Isabella\"])"
   ]
  },
  {
   "cell_type": "code",
   "execution_count": 40,
   "metadata": {},
   "outputs": [
    {
     "data": {
      "text/plain": [
       "dict_items([('Isabella', [43, 34, 88, 83]), ('Manuela', [72, 74, 70, 64]), ('Nicolas', [69, 73, 99, 65]), ('Helena', [46, 61, 68, 99]), ('Bernardo', [60, 26, 90, 55])])"
      ]
     },
     "execution_count": 40,
     "metadata": {},
     "output_type": "execute_result"
    }
   ],
   "source": [
    "notas.items()"
   ]
  },
  {
   "cell_type": "code",
   "execution_count": 37,
   "metadata": {},
   "outputs": [
    {
     "name": "stdout",
     "output_type": "stream",
     "text": [
      "Isabella [43, 34, 88, 83]\n",
      "Manuela [72, 74, 70, 64]\n",
      "Nicolas [69, 73, 99, 65]\n",
      "Helena [46, 61, 68, 99]\n",
      "Bernardo [60, 26, 90, 55]\n"
     ]
    }
   ],
   "source": [
    "for aluno, notas in notas.items():\n",
    "    print(aluno, notas)"
   ]
  },
  {
   "cell_type": "code",
   "execution_count": 42,
   "metadata": {},
   "outputs": [],
   "source": [
    "nota_final = {}\n",
    "\n",
    "for aluno in notas.keys():\n",
    "    media = sum(notas[aluno])/4\n",
    "    if media > 60:\n",
    "        nota_final[aluno] = \"aprovado\"\n",
    "    else:\n",
    "        nota_final[aluno] = \"reprovado\""
   ]
  },
  {
   "cell_type": "code",
   "execution_count": 43,
   "metadata": {},
   "outputs": [
    {
     "data": {
      "text/plain": [
       "{'Isabella': 'aprovado',\n",
       " 'Manuela': 'aprovado',\n",
       " 'Nicolas': 'aprovado',\n",
       " 'Helena': 'aprovado',\n",
       " 'Bernardo': 'reprovado'}"
      ]
     },
     "execution_count": 43,
     "metadata": {},
     "output_type": "execute_result"
    }
   ],
   "source": [
    "nota_final"
   ]
  },
  {
   "cell_type": "markdown",
   "metadata": {},
   "source": [
    "5. Seja janeiro de um ano qualquer que teve como dia 1 uma quinta-feira e sabendo que janeiro tem 31 dias, qual dia da semana é 20?"
   ]
  },
  {
   "cell_type": "code",
   "execution_count": 45,
   "metadata": {},
   "outputs": [
    {
     "data": {
      "text/plain": [
       "2"
      ]
     },
     "execution_count": 45,
     "metadata": {},
     "output_type": "execute_result"
    }
   ],
   "source": [
    "(20%7)-4"
   ]
  },
  {
   "cell_type": "markdown",
   "metadata": {},
   "source": [
    "6. Ana vai fazer um chá de bebê e gostaria de convidar 10 amigos enviando uma mensagem. Ela já escreveu a mensagem principal, vamos ajudá-la a escrever 10 esta mensagem 10x apenas trocando o nome dos convidados."
   ]
  },
  {
   "cell_type": "code",
   "execution_count": 46,
   "metadata": {},
   "outputs": [],
   "source": [
    "lst_convidados = [\"Miguel\", \"Isabella\", \"Manuela\", \"Nicolas\", \"Helena\", \"Bernardo\", \"Valentina\", \"Pedro\", \"Maria Eduarda\", \"Alice\"]\n",
    "s = \" está convidado(a) para fazer parte deste momento especial que será o meu chá de bebê, espero você lá\"xxxxx"
   ]
  },
  {
   "cell_type": "code",
   "execution_count": 47,
   "metadata": {},
   "outputs": [
    {
     "name": "stdout",
     "output_type": "stream",
     "text": [
      "Miguel está convidado(a) para fazer parte deste momento especial que será o meu chá de bebê, espero você lá\n",
      "Isabella está convidado(a) para fazer parte deste momento especial que será o meu chá de bebê, espero você lá\n",
      "Manuela está convidado(a) para fazer parte deste momento especial que será o meu chá de bebê, espero você lá\n",
      "Nicolas está convidado(a) para fazer parte deste momento especial que será o meu chá de bebê, espero você lá\n",
      "Helena está convidado(a) para fazer parte deste momento especial que será o meu chá de bebê, espero você lá\n",
      "Bernardo está convidado(a) para fazer parte deste momento especial que será o meu chá de bebê, espero você lá\n",
      "Valentina está convidado(a) para fazer parte deste momento especial que será o meu chá de bebê, espero você lá\n",
      "Pedro está convidado(a) para fazer parte deste momento especial que será o meu chá de bebê, espero você lá\n",
      "Maria Eduarda está convidado(a) para fazer parte deste momento especial que será o meu chá de bebê, espero você lá\n",
      "Alice está convidado(a) para fazer parte deste momento especial que será o meu chá de bebê, espero você lá\n"
     ]
    }
   ],
   "source": [
    "for nome in lst_convidados:\n",
    "    msg = s.replace(\"xxxxx\", nome)\n",
    "    print(msg)\n"
   ]
  },
  {
   "cell_type": "markdown",
   "metadata": {},
   "source": [
    "7. (HackerRank - captain room) O sr. Anant é o gerente do hotel INFINITO. O hotel possui infinitos quartos. Um dia, um número finito de turistas chegou no hotel. Os turistas estavam organizados da seguinte forma:\n",
    "- Um capitão\n",
    "- Um grupo de familiares consistindo de K membros por família.\n",
    "Para o capitão foi dado um quarto separado e para os demais, um quarto por família.\n",
    "\n",
    "Sr. Anant possui uma lista não ordenada com o número do quarto de cada turista. Cada número se repete na lista igual a quantidade de pessoas na família, exceto pelo número do quarto do capitão.\n",
    "\n",
    "Em posse desta lista, sua tarefa é encontrar o número do quarto do capitão."
   ]
  },
  {
   "cell_type": "code",
   "execution_count": 48,
   "metadata": {},
   "outputs": [],
   "source": [
    "rooms_lst = [1, 2, 3, 6, 5, 4, 4, 2, 5, 3, 6, 1, 6, 5, 3, 2, 4, 1, 2, 5, 1, 4, 3, 6, 8, 4, 3, 1, 5, 6, 2 ]"
   ]
  },
  {
   "cell_type": "code",
   "execution_count": 49,
   "metadata": {},
   "outputs": [
    {
     "data": {
      "text/plain": [
       "{1, 2, 3, 4, 5, 6, 8}"
      ]
     },
     "execution_count": 49,
     "metadata": {},
     "output_type": "execute_result"
    }
   ],
   "source": [
    "set(rooms_lst)"
   ]
  },
  {
   "cell_type": "code",
   "execution_count": 50,
   "metadata": {},
   "outputs": [
    {
     "name": "stdout",
     "output_type": "stream",
     "text": [
      "O quarto:8 é o quarto do capitão\n"
     ]
    }
   ],
   "source": [
    "for quarto in set(rooms_lst):\n",
    "    if rooms_lst.count(quarto) == 1:\n",
    "        print(f\"O quarto:{quarto} é o quarto do capitão\")"
   ]
  },
  {
   "cell_type": "code",
   "execution_count": 51,
   "metadata": {},
   "outputs": [],
   "source": [
    "from collections import Counter"
   ]
  },
  {
   "cell_type": "code",
   "execution_count": 52,
   "metadata": {},
   "outputs": [
    {
     "data": {
      "text/plain": [
       "Counter({1: 5, 2: 5, 3: 5, 6: 5, 5: 5, 4: 5, 8: 1})"
      ]
     },
     "execution_count": 52,
     "metadata": {},
     "output_type": "execute_result"
    }
   ],
   "source": [
    "Counter(rooms_lst)"
   ]
  }
 ],
 "metadata": {
  "kernelspec": {
   "display_name": "base",
   "language": "python",
   "name": "python3"
  },
  "language_info": {
   "codemirror_mode": {
    "name": "ipython",
    "version": 3
   },
   "file_extension": ".py",
   "mimetype": "text/x-python",
   "name": "python",
   "nbconvert_exporter": "python",
   "pygments_lexer": "ipython3",
   "version": "3.12.4"
  }
 },
 "nbformat": 4,
 "nbformat_minor": 2
}

{
 "cells": [
  {
   "cell_type": "markdown",
   "metadata": {},
   "source": [
    "### Estruturas de Sequência"
   ]
  },
  {
   "cell_type": "markdown",
   "metadata": {},
   "source": [
    "#### Listas"
   ]
  },
  {
   "cell_type": "markdown",
   "metadata": {},
   "source": [
    "Listas são indexadas"
   ]
  },
  {
   "cell_type": "code",
   "execution_count": 3,
   "metadata": {},
   "outputs": [
    {
     "name": "stdout",
     "output_type": "stream",
     "text": [
      "['Isabella', 1, 97, 'Manuela', 'Nicolas', True, 'Bernardo', 'Valentina']\n",
      "Isabella ['Manuela', 'Nicolas', True, 'Bernardo', 'Valentina']\n"
     ]
    }
   ],
   "source": [
    "lista = [\"Isabella\", 1, 97, \"Manuela\", \"Nicolas\", True, \"Bernardo\", \"Valentina\"]\n",
    "print(lista)\n",
    "print(lista[0], lista[3:8])"
   ]
  },
  {
   "cell_type": "markdown",
   "metadata": {},
   "source": [
    "Listas são mutáveis"
   ]
  },
  {
   "cell_type": "code",
   "execution_count": 5,
   "metadata": {},
   "outputs": [
    {
     "name": "stdout",
     "output_type": "stream",
     "text": [
      "['Isabella', 1, 12, 'Manuela', 'Nicolas', True, 'Bernardo', 'Valentina']\n"
     ]
    }
   ],
   "source": [
    "lista[2] = 12\n",
    "print(lista)"
   ]
  },
  {
   "cell_type": "code",
   "execution_count": 6,
   "metadata": {},
   "outputs": [
    {
     "name": "stdout",
     "output_type": "stream",
     "text": [
      "['Isabella', 1, 12, 'Manuela', 'Nicolas', True, 'Bernardo', 'Valentina', 'Carlos']\n",
      "['Isabella', 1, 12, 'Manuela', 'Nicolas', True, 'Bernardo', 'Valentina']\n"
     ]
    }
   ],
   "source": [
    "lista.append(\"Carlos\")\n",
    "print(lista)\n",
    "lista.remove(\"Carlos\")\n",
    "print(lista)"
   ]
  },
  {
   "cell_type": "markdown",
   "metadata": {},
   "source": [
    "Podemos conferir valores em uma lista"
   ]
  },
  {
   "cell_type": "code",
   "execution_count": 7,
   "metadata": {},
   "outputs": [
    {
     "name": "stdout",
     "output_type": "stream",
     "text": [
      "False\n",
      "True\n"
     ]
    }
   ],
   "source": [
    "print(\"Ana\" in lista) \n",
    "print(\"Ana\" not in lista) "
   ]
  },
  {
   "cell_type": "markdown",
   "metadata": {},
   "source": [
    "Operações"
   ]
  },
  {
   "cell_type": "code",
   "execution_count": 8,
   "metadata": {},
   "outputs": [
    {
     "data": {
      "text/plain": [
       "['Eu, tu', 'vós', 'eles']"
      ]
     },
     "execution_count": 8,
     "metadata": {},
     "output_type": "execute_result"
    }
   ],
   "source": [
    "[\"Eu, tu\"] + [\"vós\", \"eles\"]"
   ]
  },
  {
   "cell_type": "markdown",
   "metadata": {},
   "source": [
    "Nas listas, a ordem é importante"
   ]
  },
  {
   "cell_type": "code",
   "execution_count": 9,
   "metadata": {},
   "outputs": [
    {
     "name": "stdout",
     "output_type": "stream",
     "text": [
      "False\n"
     ]
    }
   ],
   "source": [
    "print([1, 9] == [9, 1])"
   ]
  },
  {
   "cell_type": "markdown",
   "metadata": {},
   "source": [
    "Listas podem ser ordenadas"
   ]
  },
  {
   "cell_type": "code",
   "execution_count": 10,
   "metadata": {},
   "outputs": [
    {
     "name": "stdout",
     "output_type": "stream",
     "text": [
      "[4, 6, 20, 21, 23, 34, 49, 72, 81, 94]\n",
      "[94, 81, 72, 49, 34, 23, 21, 20, 6, 4]\n"
     ]
    }
   ],
   "source": [
    "print(sorted([81, 49, 72, 20, 21, 6, 4, 34, 23, 94]))\n",
    "print(sorted([81, 49, 72, 20, 21, 6, 4, 34, 23, 94], reverse=True))"
   ]
  },
  {
   "cell_type": "code",
   "execution_count": 11,
   "metadata": {},
   "outputs": [
    {
     "name": "stdout",
     "output_type": "stream",
     "text": [
      "3\n",
      "1\n"
     ]
    }
   ],
   "source": [
    "nums_lst = [81, 49, 4, 20, 21, 6, 4, 34, 4, 94]\n",
    "print(nums_lst.count(4))\n",
    "print(nums_lst.index(49))"
   ]
  },
  {
   "cell_type": "markdown",
   "metadata": {},
   "source": [
    "#### Tuplas"
   ]
  },
  {
   "cell_type": "markdown",
   "metadata": {},
   "source": [
    "As tuplas se comportam de forma muito semelhante as listas, mas são objetos imutáveis"
   ]
  },
  {
   "cell_type": "code",
   "execution_count": 12,
   "metadata": {},
   "outputs": [],
   "source": [
    "lst_tuple = (\"Isabella\", 1, 97, \"Manuela\", \"Nicolas\", True, \"Bernardo\", \"Valentina\")"
   ]
  },
  {
   "cell_type": "code",
   "execution_count": 14,
   "metadata": {},
   "outputs": [
    {
     "data": {
      "text/plain": [
       "97"
      ]
     },
     "execution_count": 14,
     "metadata": {},
     "output_type": "execute_result"
    }
   ],
   "source": [
    "lst_tuple[2]"
   ]
  },
  {
   "cell_type": "code",
   "execution_count": 13,
   "metadata": {},
   "outputs": [
    {
     "ename": "TypeError",
     "evalue": "'tuple' object does not support item assignment",
     "output_type": "error",
     "traceback": [
      "\u001b[1;31m---------------------------------------------------------------------------\u001b[0m",
      "\u001b[1;31mTypeError\u001b[0m                                 Traceback (most recent call last)",
      "Cell \u001b[1;32mIn[13], line 1\u001b[0m\n\u001b[1;32m----> 1\u001b[0m lst_tuple[\u001b[38;5;241m2\u001b[39m] \u001b[38;5;241m=\u001b[39m \u001b[38;5;241m100\u001b[39m\n",
      "\u001b[1;31mTypeError\u001b[0m: 'tuple' object does not support item assignment"
     ]
    }
   ],
   "source": [
    "lst_tuple[2] = 100"
   ]
  },
  {
   "cell_type": "code",
   "execution_count": 15,
   "metadata": {},
   "outputs": [
    {
     "name": "stdout",
     "output_type": "stream",
     "text": [
      "(81, 49, 4, 20, 21, 6, 4, 34, 4, 94)\n",
      "[4, 4, 4, 6, 20, 21, 34, 49, 81, 94]\n",
      "3\n",
      "1\n"
     ]
    }
   ],
   "source": [
    "nums_tuple = (81, 49, 4, 20, 21, 6, 4, 34, 4, 94)\n",
    "print(nums_tuple)\n",
    "print(sorted(nums_tuple))\n",
    "print(nums_tuple.count(4))\n",
    "print(nums_tuple.index(49))"
   ]
  },
  {
   "cell_type": "markdown",
   "metadata": {},
   "source": [
    "### Estrutura de Conjuntos"
   ]
  },
  {
   "cell_type": "code",
   "execution_count": 16,
   "metadata": {},
   "outputs": [
    {
     "name": "stdout",
     "output_type": "stream",
     "text": [
      "{34, 4, 6, 81, 49, 20, 21, 94}\n",
      "[4, 6, 20, 21, 34, 49, 81, 94]\n"
     ]
    }
   ],
   "source": [
    "nums_set = {81, 49, 4, 20, 21, 6, 4, 34, 4, 94}\n",
    "print(nums_set)\n",
    "print(sorted(nums_set))"
   ]
  },
  {
   "cell_type": "markdown",
   "metadata": {},
   "source": [
    "Nos conjuntos a ordem não é relevante"
   ]
  },
  {
   "cell_type": "code",
   "execution_count": 17,
   "metadata": {},
   "outputs": [
    {
     "name": "stdout",
     "output_type": "stream",
     "text": [
      "True\n"
     ]
    }
   ],
   "source": [
    "nums_set2 = {49, 4, 20, 21, 6, 34, 94, 81}\n",
    "print(nums_set == nums_set2)"
   ]
  },
  {
   "cell_type": "code",
   "execution_count": 18,
   "metadata": {},
   "outputs": [
    {
     "name": "stdout",
     "output_type": "stream",
     "text": [
      "True\n"
     ]
    }
   ],
   "source": [
    "print(20 in nums_set)"
   ]
  },
  {
   "cell_type": "markdown",
   "metadata": {},
   "source": [
    "### Estruturas de Mapeamento"
   ]
  },
  {
   "cell_type": "code",
   "execution_count": 19,
   "metadata": {},
   "outputs": [],
   "source": [
    "personagem = {\n",
    "   \"nome\": \"Darth Vader\",\n",
    "   \"tipo\": \"Jedi\",\n",
    "   \"episodios\":[4, 5, 6]\n",
    "}\n"
   ]
  },
  {
   "cell_type": "code",
   "execution_count": 20,
   "metadata": {},
   "outputs": [
    {
     "name": "stdout",
     "output_type": "stream",
     "text": [
      "dict_items([('nome', 'Darth Vader'), ('tipo', 'Jedi'), ('episodios', [4, 5, 6])])\n",
      "dict_values(['Darth Vader', 'Jedi', [4, 5, 6]])\n",
      "dict_keys(['nome', 'tipo', 'episodios'])\n"
     ]
    }
   ],
   "source": [
    "print(personagem.items())\n",
    "print(personagem.values())\n",
    "print(personagem.keys())"
   ]
  },
  {
   "cell_type": "markdown",
   "metadata": {},
   "source": [
    "Adicionando e removendo objetos"
   ]
  },
  {
   "cell_type": "code",
   "execution_count": 21,
   "metadata": {},
   "outputs": [
    {
     "data": {
      "text/plain": [
       "{'nome': 'Darth Vader',\n",
       " 'tipo': 'Jedi',\n",
       " 'episodios': [4, 5, 6],\n",
       " 'familiares': 'Luke'}"
      ]
     },
     "execution_count": 21,
     "metadata": {},
     "output_type": "execute_result"
    }
   ],
   "source": [
    "personagem[\"familiares\"] = \"Luke\"\n",
    "personagem"
   ]
  },
  {
   "cell_type": "code",
   "execution_count": 22,
   "metadata": {},
   "outputs": [
    {
     "data": {
      "text/plain": [
       "{'nome': 'Darth Vader', 'tipo': 'Jedi', 'episodios': [4, 5, 6]}"
      ]
     },
     "execution_count": 22,
     "metadata": {},
     "output_type": "execute_result"
    }
   ],
   "source": [
    "personagem.pop('familiares')\n",
    "personagem"
   ]
  },
  {
   "cell_type": "code",
   "execution_count": 23,
   "metadata": {},
   "outputs": [
    {
     "data": {
      "text/plain": [
       "{'nome': 'Darth Vader', 'tipo': 'Jedi'}"
      ]
     },
     "execution_count": 23,
     "metadata": {},
     "output_type": "execute_result"
    }
   ],
   "source": [
    "del personagem['episodios']\n",
    "personagem"
   ]
  },
  {
   "cell_type": "code",
   "execution_count": 25,
   "metadata": {},
   "outputs": [
    {
     "data": {
      "text/plain": [
       "{'nome': 'Carolina', 'idade': 34}"
      ]
     },
     "execution_count": 25,
     "metadata": {},
     "output_type": "execute_result"
    }
   ],
   "source": [
    "dict(nome=\"Carolina\", idade=34)"
   ]
  },
  {
   "cell_type": "code",
   "execution_count": 24,
   "metadata": {},
   "outputs": [
    {
     "data": {
      "text/plain": [
       "{'nome': 'Carolina', 'idade': 34}"
      ]
     },
     "execution_count": 24,
     "metadata": {},
     "output_type": "execute_result"
    }
   ],
   "source": [
    "{\"nome\":\"Carolina\", \"idade\":34}"
   ]
  },
  {
   "cell_type": "markdown",
   "metadata": {},
   "source": [
    "Dicionários aninhados"
   ]
  },
  {
   "cell_type": "code",
   "execution_count": 26,
   "metadata": {},
   "outputs": [
    {
     "data": {
      "text/plain": [
       "{'Lord of the Rings': {'ano': 2001, 'gênero': 'Fantasy'},\n",
       " 'Star Wars': {'ano': 1977, 'gênero': 'Science Fiction'}}"
      ]
     },
     "execution_count": 26,
     "metadata": {},
     "output_type": "execute_result"
    }
   ],
   "source": [
    "filmes = {\n",
    "    \"Lord of the Rings\":{\n",
    "        \"ano\" : 2001,\n",
    "        \"gênero\": \"Fantasy\"\n",
    "    },\n",
    "    \"Star Wars\" : {\n",
    "        \"ano\" : 1977,\n",
    "        \"gênero\": \"Science Fiction\"\n",
    "    }\n",
    "}\n",
    "filmes"
   ]
  },
  {
   "cell_type": "code",
   "execution_count": 29,
   "metadata": {},
   "outputs": [
    {
     "data": {
      "text/plain": [
       "1977"
      ]
     },
     "execution_count": 29,
     "metadata": {},
     "output_type": "execute_result"
    }
   ],
   "source": [
    "filmes[\"Star Wars\"][\"ano\"]"
   ]
  },
  {
   "cell_type": "markdown",
   "metadata": {},
   "source": [
    "### Estruturas de Controle de Fluxo"
   ]
  },
  {
   "cell_type": "code",
   "execution_count": 33,
   "metadata": {},
   "outputs": [
    {
     "name": "stdout",
     "output_type": "stream",
     "text": [
      "x é maior do que y\n"
     ]
    }
   ],
   "source": [
    "x = 10\n",
    "y = 8\n",
    "\n",
    "if x > y: \n",
    "    print(\"x é maior do que y\")\n",
    "elif x == y:\n",
    "    print(\"x e y são iguais\")"
   ]
  },
  {
   "cell_type": "markdown",
   "metadata": {},
   "source": [
    "### Estruturas de Repetição"
   ]
  },
  {
   "cell_type": "markdown",
   "metadata": {},
   "source": [
    "For Loop"
   ]
  },
  {
   "cell_type": "code",
   "execution_count": 34,
   "metadata": {},
   "outputs": [
    {
     "name": "stdout",
     "output_type": "stream",
     "text": [
      "Isabella\n",
      "Manuela\n",
      "Bernardo\n",
      "Valentina\n"
     ]
    }
   ],
   "source": [
    "for nome in [\"Isabella\", \"Manuela\", \"Bernardo\", \"Valentina\"]: \n",
    "    print(nome)"
   ]
  },
  {
   "cell_type": "code",
   "execution_count": 37,
   "metadata": {},
   "outputs": [
    {
     "name": "stdout",
     "output_type": "stream",
     "text": [
      "Isabella\n",
      "Manuela\n",
      "Bernardo\n",
      "Valentina\n"
     ]
    }
   ],
   "source": [
    "nomes = [\"Isabella\", \"Manuela\", \"Bernardo\", \"Valentina\"]\n",
    "for i in range(len(nomes)):\n",
    "    print(nomes[i])"
   ]
  },
  {
   "cell_type": "code",
   "execution_count": 35,
   "metadata": {},
   "outputs": [
    {
     "name": "stdout",
     "output_type": "stream",
     "text": [
      "Isabella\n",
      "Manuela\n",
      "Bernardo\n",
      "Valentina\n"
     ]
    }
   ],
   "source": [
    "for nome in (\"Isabella\", \"Manuela\", \"Bernardo\", \"Valentina\"): \n",
    "    print(nome)"
   ]
  },
  {
   "cell_type": "code",
   "execution_count": 36,
   "metadata": {},
   "outputs": [
    {
     "name": "stdout",
     "output_type": "stream",
     "text": [
      "Bernardo\n",
      "Valentina\n",
      "Isabella\n",
      "Manuela\n"
     ]
    }
   ],
   "source": [
    "for nome in {\"Isabella\", \"Manuela\", \"Bernardo\", \"Valentina\"}: \n",
    "    print(nome)"
   ]
  },
  {
   "cell_type": "markdown",
   "metadata": {},
   "source": [
    "While Loop"
   ]
  },
  {
   "cell_type": "code",
   "execution_count": 38,
   "metadata": {},
   "outputs": [
    {
     "name": "stdout",
     "output_type": "stream",
     "text": [
      "Isabella\n",
      "Manuela\n",
      "Bernardo\n",
      "Valentina\n"
     ]
    }
   ],
   "source": [
    "nomes = [\"Isabella\", \"Manuela\", \"Bernardo\", \"Valentina\"]\n",
    "i = 0\n",
    "while i < len(nomes):\n",
    "    print(nomes[i])\n",
    "    i += 1"
   ]
  },
  {
   "cell_type": "markdown",
   "metadata": {},
   "source": [
    "### List Comprehension"
   ]
  },
  {
   "cell_type": "code",
   "execution_count": 39,
   "metadata": {},
   "outputs": [
    {
     "name": "stdout",
     "output_type": "stream",
     "text": [
      "['Isabella', 'Manuela', 'Nicolas', 'Bernardo', 'Valentina']\n"
     ]
    }
   ],
   "source": [
    "lista = [\"Isabella\", 1, 97, \"Manuela\", \"Nicolas\", True, \"Bernardo\", \"Valentina\"]\n",
    "lista2 = []\n",
    "\n",
    "for lst in lista:\n",
    "  if type(lst) == str:\n",
    "    lista2.append(lst)\n",
    "\n",
    "print(lista2)"
   ]
  },
  {
   "cell_type": "code",
   "execution_count": 40,
   "metadata": {},
   "outputs": [
    {
     "name": "stdout",
     "output_type": "stream",
     "text": [
      "['Isabella', 'Manuela', 'Nicolas', 'Bernardo', 'Valentina']\n"
     ]
    }
   ],
   "source": [
    "lista3 = [lst for lst in lista if type(lst) == str]\n",
    "\n",
    "print(lista3)"
   ]
  }
 ],
 "metadata": {
  "kernelspec": {
   "display_name": "base",
   "language": "python",
   "name": "python3"
  },
  "language_info": {
   "codemirror_mode": {
    "name": "ipython",
    "version": 3
   },
   "file_extension": ".py",
   "mimetype": "text/x-python",
   "name": "python",
   "nbconvert_exporter": "python",
   "pygments_lexer": "ipython3",
   "version": "3.12.4"
  }
 },
 "nbformat": 4,
 "nbformat_minor": 2
}

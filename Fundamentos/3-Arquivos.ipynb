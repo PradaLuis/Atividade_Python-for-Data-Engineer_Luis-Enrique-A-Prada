{
 "cells": [
  {
   "cell_type": "markdown",
   "metadata": {},
   "source": [
    "### Paths"
   ]
  },
  {
   "cell_type": "markdown",
   "metadata": {},
   "source": [
    "Primeiro passo é conhecer o path atual"
   ]
  },
  {
   "cell_type": "code",
   "execution_count": 1,
   "metadata": {},
   "outputs": [],
   "source": [
    "import os"
   ]
  },
  {
   "cell_type": "code",
   "execution_count": 2,
   "metadata": {},
   "outputs": [
    {
     "name": "stdout",
     "output_type": "stream",
     "text": [
      "c:\\Users\\Carolina\\OneDrive\\Github\\python-course\\Fundamentos\n"
     ]
    }
   ],
   "source": [
    "print(os.getcwd())"
   ]
  },
  {
   "cell_type": "code",
   "execution_count": 3,
   "metadata": {},
   "outputs": [],
   "source": [
    "from pathlib import Path"
   ]
  },
  {
   "cell_type": "code",
   "execution_count": 4,
   "metadata": {},
   "outputs": [
    {
     "name": "stdout",
     "output_type": "stream",
     "text": [
      "c:\\Users\\Carolina\\OneDrive\\Github\\python-course\\Fundamentos\n",
      "C:\\Users\\Carolina\n"
     ]
    }
   ],
   "source": [
    "print(Path.cwd())\n",
    "print(Path.home())"
   ]
  },
  {
   "cell_type": "markdown",
   "metadata": {},
   "source": [
    "Listar os arquivos de um path especificado"
   ]
  },
  {
   "cell_type": "code",
   "execution_count": 5,
   "metadata": {},
   "outputs": [
    {
     "data": {
      "text/plain": [
       "[WindowsPath('Arquivos.ipynb'),\n",
       " WindowsPath('EstruturasFundamentais.ipynb'),\n",
       " WindowsPath('Exercicios1.ipynb'),\n",
       " WindowsPath('Exercicios2.ipynb'),\n",
       " WindowsPath('Funcoes.ipynb'),\n",
       " WindowsPath('TiposDados.ipynb')]"
      ]
     },
     "execution_count": 5,
     "metadata": {},
     "output_type": "execute_result"
    }
   ],
   "source": [
    "list_files = Path(\".\")\n",
    "list(list_files.glob(\"*.ipynb\"))"
   ]
  },
  {
   "cell_type": "code",
   "execution_count": 6,
   "metadata": {},
   "outputs": [
    {
     "data": {
      "text/plain": [
       "pathlib.WindowsPath"
      ]
     },
     "execution_count": 6,
     "metadata": {},
     "output_type": "execute_result"
    }
   ],
   "source": [
    "type(list_files)"
   ]
  },
  {
   "cell_type": "markdown",
   "metadata": {},
   "source": [
    "Navegar pelas hirarquia de arquivos"
   ]
  },
  {
   "cell_type": "code",
   "execution_count": 7,
   "metadata": {},
   "outputs": [
    {
     "name": "stdout",
     "output_type": "stream",
     "text": [
      "c:\\Users\\Carolina\\OneDrive\\Github\\python-course\n",
      "<class 'str'>\n"
     ]
    }
   ],
   "source": [
    "dir_name = os.path.dirname(os.getcwd())\n",
    "print(dir_name)\n",
    "print(type(dir_name))"
   ]
  },
  {
   "cell_type": "code",
   "execution_count": 8,
   "metadata": {},
   "outputs": [
    {
     "name": "stdout",
     "output_type": "stream",
     "text": [
      "c:\\Users\\Carolina\\OneDrive\\Github\\python-course\n"
     ]
    }
   ],
   "source": [
    "print(os.path.dirname(os.getcwd()))"
   ]
  },
  {
   "cell_type": "code",
   "execution_count": 9,
   "metadata": {},
   "outputs": [
    {
     "data": {
      "text/plain": [
       "[WindowsPath('c:/Users/Carolina/OneDrive/Github/python-course/.git'),\n",
       " WindowsPath('c:/Users/Carolina/OneDrive/Github/python-course/.gitignore'),\n",
       " WindowsPath('c:/Users/Carolina/OneDrive/Github/python-course/Fundamentos'),\n",
       " WindowsPath('c:/Users/Carolina/OneDrive/Github/python-course/InputOutput'),\n",
       " WindowsPath('c:/Users/Carolina/OneDrive/Github/python-course/ManipulacaoDados'),\n",
       " WindowsPath('c:/Users/Carolina/OneDrive/Github/python-course/Projeto'),\n",
       " WindowsPath('c:/Users/Carolina/OneDrive/Github/python-course/README.md')]"
      ]
     },
     "execution_count": 9,
     "metadata": {},
     "output_type": "execute_result"
    }
   ],
   "source": [
    "list(Path(dir_name).glob(\"*\"))"
   ]
  },
  {
   "cell_type": "markdown",
   "metadata": {},
   "source": [
    "Verificar a existência de um arquivo"
   ]
  },
  {
   "cell_type": "code",
   "execution_count": 10,
   "metadata": {},
   "outputs": [
    {
     "data": {
      "text/plain": [
       "True"
      ]
     },
     "execution_count": 10,
     "metadata": {},
     "output_type": "execute_result"
    }
   ],
   "source": [
    "os.path.exists(\"Funcoes.ipynb\")"
   ]
  },
  {
   "cell_type": "markdown",
   "metadata": {},
   "source": [
    "### Arquivos"
   ]
  },
  {
   "cell_type": "markdown",
   "metadata": {},
   "source": [
    "Utilizamos a função `open()` junto com o modo de manipulação:\n",
    "\n",
    "- `'r'`: modo de leitura, o arquivo deve existir previamente\n",
    "- `'w'`: modo de escrita, se o arquivo não existir, ele será criado\n",
    "- `'a'`: modo de anexar, adiciona informações ao final do arquivo\n",
    "- `'x'`: modo exclusivo, cria um novo arquivo somente se ele não existir\n",
    "- `'b'`: modo binário, usado para arquivos binários, como imagens ou vídeos"
   ]
  },
  {
   "cell_type": "code",
   "execution_count": 11,
   "metadata": {},
   "outputs": [],
   "source": [
    "arquivo = open(\"assets/texto.txt\", 'r')"
   ]
  },
  {
   "cell_type": "code",
   "execution_count": 12,
   "metadata": {},
   "outputs": [
    {
     "data": {
      "text/plain": [
       "<_io.TextIOWrapper name='assets/texto.txt' mode='r' encoding='utf-8'>"
      ]
     },
     "execution_count": 12,
     "metadata": {},
     "output_type": "execute_result"
    }
   ],
   "source": [
    "arquivo"
   ]
  },
  {
   "cell_type": "code",
   "execution_count": 13,
   "metadata": {},
   "outputs": [
    {
     "data": {
      "text/plain": [
       "'São Paulo, a metrópole que nunca dorme, se transforma sob a chuva. O ritmo frenético da cidade diminui, dando lugar a um ambiente mais introspectivo. Os carros deslizam pelas ruas molhadas, os guarda-chuvas se multiplicam e o som da chuva cria uma sinfonia melancólica.\\nAs gotas d\\'água que caem do céu lavam a poluição e trazem um frescor bem-vindo. Os parques e praças se revigoram, as árvores brilham em tons de verde intensos e o cheiro de terra molhada invade a cidade. É um convite para desacelerar, apreciar a beleza efêmera da chuva e buscar refúgio em um café aconchegante ou em um bom livro.\\nA chuva em São Paulo também é um lembrete da força da natureza, capaz de transformar a paisagem urbana em um cenário dramático e poético. As nuvens carregadas, os raios que cortam o céu e o trovão que ecoa pelos prédios criam um espetáculo impressionante.\\nMas a chuva também pode trazer desafios. O trânsito se intensifica, os alagamentos se tornam mais comuns e a rotina da cidade é afetada. É preciso ter paciência, redobrar a atenção e buscar alternativas para se locomover.\\nApesar dos contratempos, a chuva em São Paulo tem seu charme. Ela nos convida a apreciar a cidade sob uma nova perspectiva, a buscar conforto em casa ou em um bom restaurante, a valorizar os momentos de tranquilidade. Afinal, como diz o ditado, \"depois da tempestade, sempre vem a bonança\".'"
      ]
     },
     "execution_count": 13,
     "metadata": {},
     "output_type": "execute_result"
    }
   ],
   "source": [
    "conteudo = arquivo.read()\n",
    "conteudo"
   ]
  },
  {
   "cell_type": "code",
   "execution_count": 14,
   "metadata": {},
   "outputs": [],
   "source": [
    "arquivo2 = open(\"assets/novo_texto.txt\", 'w')\n",
    "arquivo2.write('Olá Mundo!')\n",
    "arquivo2.close()"
   ]
  },
  {
   "cell_type": "markdown",
   "metadata": {},
   "source": [
    "Podemos utilizar o statement `with` para abrir um arquivo e garantir que ele seja fechado corretamente, mesmo em caso de erro."
   ]
  },
  {
   "cell_type": "code",
   "execution_count": 15,
   "metadata": {},
   "outputs": [
    {
     "name": "stdout",
     "output_type": "stream",
     "text": [
      "São Paulo, a metrópole que nunca dorme, se transforma sob a chuva. O ritmo frenético da cidade diminui, dando lugar a um ambiente mais introspectivo. Os carros deslizam pelas ruas molhadas, os guarda-chuvas se multiplicam e o som da chuva cria uma sinfonia melancólica.\n",
      "As gotas d'água que caem do céu lavam a poluição e trazem um frescor bem-vindo. Os parques e praças se revigoram, as árvores brilham em tons de verde intensos e o cheiro de terra molhada invade a cidade. É um convite para desacelerar, apreciar a beleza efêmera da chuva e buscar refúgio em um café aconchegante ou em um bom livro.\n",
      "A chuva em São Paulo também é um lembrete da força da natureza, capaz de transformar a paisagem urbana em um cenário dramático e poético. As nuvens carregadas, os raios que cortam o céu e o trovão que ecoa pelos prédios criam um espetáculo impressionante.\n",
      "Mas a chuva também pode trazer desafios. O trânsito se intensifica, os alagamentos se tornam mais comuns e a rotina da cidade é afetada. É preciso ter paciência, redobrar a atenção e buscar alternativas para se locomover.\n",
      "Apesar dos contratempos, a chuva em São Paulo tem seu charme. Ela nos convida a apreciar a cidade sob uma nova perspectiva, a buscar conforto em casa ou em um bom restaurante, a valorizar os momentos de tranquilidade. Afinal, como diz o ditado, \"depois da tempestade, sempre vem a bonança\".\n"
     ]
    }
   ],
   "source": [
    "with open('assets/texto.txt', 'r') as arquivo:\n",
    "    conteudo = arquivo.read()\n",
    "print(conteudo)"
   ]
  },
  {
   "cell_type": "code",
   "execution_count": 16,
   "metadata": {},
   "outputs": [
    {
     "name": "stdout",
     "output_type": "stream",
     "text": [
      "São Paulo, a metrópole que nunca dorme, se transforma sob a chuva. O ritmo frenético da cidade diminui, dando lugar a um ambiente mais introspectivo. Os carros deslizam pelas ruas molhadas, os guarda-chuvas se multiplicam e o som da chuva cria uma sinfonia melancólica.\n",
      "\n",
      "As gotas d'água que caem do céu lavam a poluição e trazem um frescor bem-vindo. Os parques e praças se revigoram, as árvores brilham em tons de verde intensos e o cheiro de terra molhada invade a cidade. É um convite para desacelerar, apreciar a beleza efêmera da chuva e buscar refúgio em um café aconchegante ou em um bom livro.\n",
      "\n",
      "A chuva em São Paulo também é um lembrete da força da natureza, capaz de transformar a paisagem urbana em um cenário dramático e poético. As nuvens carregadas, os raios que cortam o céu e o trovão que ecoa pelos prédios criam um espetáculo impressionante.\n",
      "\n",
      "Mas a chuva também pode trazer desafios. O trânsito se intensifica, os alagamentos se tornam mais comuns e a rotina da cidade é afetada. É preciso ter paciência, redobrar a atenção e buscar alternativas para se locomover.\n",
      "\n",
      "Apesar dos contratempos, a chuva em São Paulo tem seu charme. Ela nos convida a apreciar a cidade sob uma nova perspectiva, a buscar conforto em casa ou em um bom restaurante, a valorizar os momentos de tranquilidade. Afinal, como diz o ditado, \"depois da tempestade, sempre vem a bonança\".\n"
     ]
    }
   ],
   "source": [
    "with open('assets/texto.txt', 'r') as arquivo:\n",
    "    for line in arquivo:\n",
    "        print(line) "
   ]
  },
  {
   "cell_type": "markdown",
   "metadata": {},
   "source": [
    "Ao final do bloco , o arquivo é automaticamente fechado."
   ]
  },
  {
   "cell_type": "markdown",
   "metadata": {},
   "source": [
    " O `with` é especialmente útil quando manipulamos arquivos grandes ou quando há várias operações a serem realizadas no arquivo."
   ]
  },
  {
   "cell_type": "markdown",
   "metadata": {},
   "source": [
    "Arquivos Json"
   ]
  },
  {
   "cell_type": "code",
   "execution_count": 17,
   "metadata": {},
   "outputs": [],
   "source": [
    "with open(\"assets/iris.json\") as json_file:\n",
    "    iris_data = json_file.read()"
   ]
  },
  {
   "cell_type": "code",
   "execution_count": 18,
   "metadata": {},
   "outputs": [
    {
     "name": "stdout",
     "output_type": "stream",
     "text": [
      "{\n",
      "    \"iris_data\":[\n",
      "        {\"sepal.length\":5.1,\"sepal.width\":3.5,\"petal.length\":1.4,\"petal.width\":0.2,\"variety\":\"Setosa\"},\n",
      "        {\"sepal.length\":4.9,\"sepal.width\":3,\"petal.length\":1.4,\"petal.width\":0.2,\"variety\":\"Setosa\"},\n",
      "        {\"sepal.length\":4.7,\"sepal.width\":3.2,\"petal.length\":1.3,\"petal.width\":0.2,\"variety\":\"Setosa\"},\n",
      "        {\"sepal.length\":4.6,\"sepal.width\":3.1,\"petal.length\":1.5,\"petal.width\":0.2,\"variety\":\"Setosa\"}\n",
      "    ]\n",
      "}\n"
     ]
    }
   ],
   "source": [
    "print(iris_data)"
   ]
  },
  {
   "cell_type": "code",
   "execution_count": 19,
   "metadata": {},
   "outputs": [
    {
     "name": "stdout",
     "output_type": "stream",
     "text": [
      "<class 'str'>\n"
     ]
    }
   ],
   "source": [
    "print(type(iris_data))"
   ]
  },
  {
   "cell_type": "code",
   "execution_count": 20,
   "metadata": {},
   "outputs": [],
   "source": [
    "import json"
   ]
  },
  {
   "cell_type": "code",
   "execution_count": 21,
   "metadata": {},
   "outputs": [],
   "source": [
    "with open(\"assets/iris.json\") as json_file2:\n",
    "    iris_data2 = json.load(json_file2)"
   ]
  },
  {
   "cell_type": "code",
   "execution_count": 22,
   "metadata": {},
   "outputs": [
    {
     "name": "stdout",
     "output_type": "stream",
     "text": [
      "{'iris_data': [{'sepal.length': 5.1, 'sepal.width': 3.5, 'petal.length': 1.4, 'petal.width': 0.2, 'variety': 'Setosa'}, {'sepal.length': 4.9, 'sepal.width': 3, 'petal.length': 1.4, 'petal.width': 0.2, 'variety': 'Setosa'}, {'sepal.length': 4.7, 'sepal.width': 3.2, 'petal.length': 1.3, 'petal.width': 0.2, 'variety': 'Setosa'}, {'sepal.length': 4.6, 'sepal.width': 3.1, 'petal.length': 1.5, 'petal.width': 0.2, 'variety': 'Setosa'}]}\n"
     ]
    }
   ],
   "source": [
    "print(iris_data2)"
   ]
  },
  {
   "cell_type": "code",
   "execution_count": 23,
   "metadata": {},
   "outputs": [
    {
     "data": {
      "text/plain": [
       "dict"
      ]
     },
     "execution_count": 23,
     "metadata": {},
     "output_type": "execute_result"
    }
   ],
   "source": [
    "type(iris_data2)"
   ]
  }
 ],
 "metadata": {
  "kernelspec": {
   "display_name": "base",
   "language": "python",
   "name": "python3"
  },
  "language_info": {
   "codemirror_mode": {
    "name": "ipython",
    "version": 3
   },
   "file_extension": ".py",
   "mimetype": "text/x-python",
   "name": "python",
   "nbconvert_exporter": "python",
   "pygments_lexer": "ipython3",
   "version": "3.12.4"
  }
 },
 "nbformat": 4,
 "nbformat_minor": 2
}

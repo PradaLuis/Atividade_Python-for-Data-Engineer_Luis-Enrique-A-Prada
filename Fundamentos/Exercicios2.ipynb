{
 "cells": [
  {
   "cell_type": "markdown",
   "metadata": {},
   "source": [
    "1. (Capitalize - HackerRank) Você deve garantir que o primeiro e o último nome das pessoas comecem com uma letra maiúscula em seus passaportes. Por exemplo, alison heck deve ser escrito corretamente como Alison Heck.\n",
    "\n",
    "Considere a função built-in `capitalize()`"
   ]
  },
  {
   "cell_type": "code",
   "execution_count": 10,
   "metadata": {},
   "outputs": [],
   "source": [
    "def capitalize_name(s):\n",
    "    assert isinstance(s, str) , \"input is not a string\"\n",
    "    new_s = [(lambda x : x.capitalize()) (x) for x in s.split()]\n",
    "    return \" \".join(new_s)"
   ]
  },
  {
   "cell_type": "code",
   "execution_count": 7,
   "metadata": {},
   "outputs": [
    {
     "name": "stdout",
     "output_type": "stream",
     "text": [
      "Carolina Kamada\n"
     ]
    }
   ],
   "source": [
    "new_name = capitalize_name(\"carolina kamada\")\n",
    "print(new_name)"
   ]
  },
  {
   "cell_type": "code",
   "execution_count": 11,
   "metadata": {},
   "outputs": [
    {
     "ename": "AssertionError",
     "evalue": "input is not a string",
     "output_type": "error",
     "traceback": [
      "\u001b[1;31m---------------------------------------------------------------------------\u001b[0m",
      "\u001b[1;31mAssertionError\u001b[0m                            Traceback (most recent call last)",
      "Cell \u001b[1;32mIn[11], line 1\u001b[0m\n\u001b[1;32m----> 1\u001b[0m capitalize_name(\u001b[38;5;241m23\u001b[39m)\n",
      "Cell \u001b[1;32mIn[10], line 2\u001b[0m, in \u001b[0;36mcapitalize_name\u001b[1;34m(s)\u001b[0m\n\u001b[0;32m      1\u001b[0m \u001b[38;5;28;01mdef\u001b[39;00m \u001b[38;5;21mcapitalize_name\u001b[39m(s):\n\u001b[1;32m----> 2\u001b[0m     \u001b[38;5;28;01massert\u001b[39;00m \u001b[38;5;28misinstance\u001b[39m(s, \u001b[38;5;28mstr\u001b[39m) , \u001b[38;5;124m\"\u001b[39m\u001b[38;5;124minput is not a string\u001b[39m\u001b[38;5;124m\"\u001b[39m\n\u001b[0;32m      3\u001b[0m     new_s \u001b[38;5;241m=\u001b[39m [(\u001b[38;5;28;01mlambda\u001b[39;00m x : x\u001b[38;5;241m.\u001b[39mcapitalize()) (x) \u001b[38;5;28;01mfor\u001b[39;00m x \u001b[38;5;129;01min\u001b[39;00m s\u001b[38;5;241m.\u001b[39msplit()]\n\u001b[0;32m      4\u001b[0m     \u001b[38;5;28;01mreturn\u001b[39;00m \u001b[38;5;124m\"\u001b[39m\u001b[38;5;124m \u001b[39m\u001b[38;5;124m\"\u001b[39m\u001b[38;5;241m.\u001b[39mjoin(new_s)\n",
      "\u001b[1;31mAssertionError\u001b[0m: input is not a string"
     ]
    }
   ],
   "source": [
    "capitalize_name(23)"
   ]
  },
  {
   "cell_type": "markdown",
   "metadata": {},
   "source": [
    "2. Defina uma função para validar se um endereço de e-mail é válido. Considere:\n",
    "- Uso da biblioteca `re`\n",
    "- O seguinte padrão: <>@<>.com\n",
    "\n",
    "https://medium.com/pyladiesbh/regex-b%C3%A1sico-em-python-31dcb7fac046"
   ]
  },
  {
   "cell_type": "code",
   "execution_count": 12,
   "metadata": {},
   "outputs": [],
   "source": [
    "import re"
   ]
  },
  {
   "cell_type": "code",
   "execution_count": 13,
   "metadata": {},
   "outputs": [],
   "source": [
    "def valida_email(s):\n",
    "    if re.match(\"^[a-zA-Z0-9._-]+@[a-zA-Z0-9._-]+.com$\", s):\n",
    "        print(\"email válido\")\n",
    "    else:\n",
    "        print(\"email não válido\")"
   ]
  },
  {
   "cell_type": "code",
   "execution_count": 14,
   "metadata": {},
   "outputs": [
    {
     "name": "stdout",
     "output_type": "stream",
     "text": [
      "email válido\n"
     ]
    }
   ],
   "source": [
    "valida_email(\"caroll.zambelli@gmail.com\")"
   ]
  },
  {
   "cell_type": "code",
   "execution_count": 15,
   "metadata": {},
   "outputs": [
    {
     "name": "stdout",
     "output_type": "stream",
     "text": [
      "email não válido\n"
     ]
    }
   ],
   "source": [
    "valida_email(\"caroll.zambelligmail.com\")"
   ]
  },
  {
   "cell_type": "markdown",
   "metadata": {},
   "source": [
    "3. Dado uma string, fazer uma função que conta as letras de cada palavra, utilizando a função `lambda` com `map` . O formato de saída da função deve ser um dicionário.\n",
    "\n",
    "https://medium.com/@habbema/logging-em-python-518b162de84d"
   ]
  },
  {
   "cell_type": "code",
   "execution_count": 16,
   "metadata": {},
   "outputs": [],
   "source": [
    "words = 'Impacta offers the best data courses in Brazil'"
   ]
  },
  {
   "cell_type": "code",
   "execution_count": 24,
   "metadata": {},
   "outputs": [],
   "source": [
    "import logging"
   ]
  },
  {
   "cell_type": "code",
   "execution_count": 25,
   "metadata": {},
   "outputs": [],
   "source": [
    "logging.basicConfig(filename=\"app.log\", level=logging.INFO,\n",
    "                     format='%(asctime)s - %(levelname)s - %(message)s')"
   ]
  },
  {
   "cell_type": "code",
   "execution_count": 26,
   "metadata": {},
   "outputs": [],
   "source": [
    "def word_counter(s):\n",
    "    try:\n",
    "        results = map(lambda w: [w, len(w)] , s.split())\n",
    "        print(dict(results))\n",
    "    except Exception as expection_error:\n",
    "        #print(expection_error)\n",
    "        logging.error(expection_error)\n",
    "        "
   ]
  },
  {
   "cell_type": "code",
   "execution_count": null,
   "metadata": {},
   "outputs": [],
   "source": [
    "word_counter(123)"
   ]
  },
  {
   "cell_type": "code",
   "execution_count": 21,
   "metadata": {},
   "outputs": [
    {
     "name": "stdout",
     "output_type": "stream",
     "text": [
      "{'Impacta': 7, 'offers': 6, 'the': 3, 'best': 4, 'data': 4, 'courses': 7, 'in': 2, 'Brazil': 6}\n"
     ]
    }
   ],
   "source": [
    "word_counter(words)"
   ]
  }
 ],
 "metadata": {
  "kernelspec": {
   "display_name": "base",
   "language": "python",
   "name": "python3"
  },
  "language_info": {
   "codemirror_mode": {
    "name": "ipython",
    "version": 3
   },
   "file_extension": ".py",
   "mimetype": "text/x-python",
   "name": "python",
   "nbconvert_exporter": "python",
   "pygments_lexer": "ipython3",
   "version": "3.12.4"
  }
 },
 "nbformat": 4,
 "nbformat_minor": 2
}

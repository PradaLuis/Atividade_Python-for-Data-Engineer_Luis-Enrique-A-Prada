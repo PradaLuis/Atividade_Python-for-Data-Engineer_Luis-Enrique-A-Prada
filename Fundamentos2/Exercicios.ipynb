{
 "cells": [
  {
   "cell_type": "markdown",
   "metadata": {},
   "source": [
    "1. (Capitalize - HackerRank) Você deve garantir que o primeiro e o último nome das pessoas comecem com uma letra maiúscula em seus passaportes. Por exemplo, alison heck deve ser escrito corretamente como Alison Heck.\n",
    "\n",
    "Considere a função built-in `capitalize()`"
   ]
  },
  {
   "cell_type": "code",
   "execution_count": null,
   "metadata": {},
   "outputs": [],
   "source": []
  },
  {
   "cell_type": "markdown",
   "metadata": {},
   "source": [
    "2. Defina uma função para validar se um endereço de e-mail é válido. Considere:\n",
    "- Uso da biblioteca `re`\n",
    "- O seguinte padrão: <>@<>.com\n",
    "\n",
    "https://medium.com/pyladiesbh/regex-b%C3%A1sico-em-python-31dcb7fac046"
   ]
  },
  {
   "cell_type": "code",
   "execution_count": 71,
   "metadata": {},
   "outputs": [],
   "source": [
    "\n"
   ]
  },
  {
   "cell_type": "markdown",
   "metadata": {},
   "source": [
    "3. Dado uma string, fazer uma função que conta as letras de cada palavra, utilizando a função `lambda` com `map` . O formato de saída da função deve ser um dicionário.\n",
    "\n",
    "https://medium.com/@habbema/logging-em-python-518b162de84d"
   ]
  },
  {
   "cell_type": "code",
   "execution_count": 1,
   "metadata": {},
   "outputs": [],
   "source": [
    "words = 'Impacta offers the best data courses in Brazil'"
   ]
  }
 ],
 "metadata": {
  "kernelspec": {
   "display_name": "base",
   "language": "python",
   "name": "python3"
  },
  "language_info": {
   "codemirror_mode": {
    "name": "ipython",
    "version": 3
   },
   "file_extension": ".py",
   "mimetype": "text/x-python",
   "name": "python",
   "nbconvert_exporter": "python",
   "pygments_lexer": "ipython3",
   "version": "3.12.4"
  }
 },
 "nbformat": 4,
 "nbformat_minor": 2
}

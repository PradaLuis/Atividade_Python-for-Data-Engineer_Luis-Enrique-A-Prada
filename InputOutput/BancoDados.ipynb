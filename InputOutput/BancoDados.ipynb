{
 "cells": [
  {
   "cell_type": "markdown",
   "metadata": {},
   "source": [
    "### SQLite"
   ]
  },
  {
   "cell_type": "code",
   "execution_count": 4,
   "metadata": {},
   "outputs": [],
   "source": [
    "import sqlite3\n",
    "from sqlite3 import Error"
   ]
  },
  {
   "cell_type": "code",
   "execution_count": null,
   "metadata": {},
   "outputs": [],
   "source": [
    "# Criar a conexão com o banco de dados, se não existir o arquivo será criado\n",
    "conn = sqlite3.connect('aula04.db')"
   ]
  },
  {
   "cell_type": "code",
   "execution_count": null,
   "metadata": {},
   "outputs": [],
   "source": [
    "# definindo um iterador que permitirá navegar e manipular os registros\n",
    "cur = conn.cursor()"
   ]
  },
  {
   "cell_type": "markdown",
   "metadata": {},
   "source": [
    "Criando tabelas no banco de dados\n",
    "\n",
    "*books*: Tabela que armazenará livros, contará com as seguintes colunas:\n",
    "\n",
    "- id: chave primária única que identificará um livro\n",
    "- title: título do livro\n",
    "- author_id: id do autor do livro (chave estrangeira)\n",
    "\n",
    "*authors*: Tabela que armazenerá autores, contará com as seguintes colunas\n",
    "\n",
    "- id: chave primária única que identificará o autor\n",
    "- name: nome do autor\n",
    "- born_date: data de nascimento do autor"
   ]
  },
  {
   "cell_type": "code",
   "execution_count": 5,
   "metadata": {},
   "outputs": [],
   "source": [
    "sql_create_authors_table = \"\"\"\n",
    "CREATE TABLE IF NOT EXISTS authors(\n",
    "\tid integer PRIMARY KEY,\n",
    "\tname text NOT NULL,\n",
    "\tborn_date text\n",
    ");\n",
    "\"\"\"\n",
    "\n",
    "sql_create_books_table = \"\"\"\n",
    "CREATE TABLE IF NOT EXISTS books(\n",
    "\tid integer PRIMARY KEY,\n",
    "\ttitle text NOT NULL,\n",
    "\tauthor_id integer NOT NULL,\n",
    "\tFOREIGN KEY (author_id) REFERENCES authors (id)\n",
    ");\n",
    "\"\"\""
   ]
  },
  {
   "cell_type": "code",
   "execution_count": 6,
   "metadata": {},
   "outputs": [],
   "source": [
    "def create_table(conn, create_table_sql):\n",
    "    try:\n",
    "        c = conn.cursor()\n",
    "        c.execute(create_table_sql)\n",
    "    except Error as e:\n",
    "        print(e)"
   ]
  },
  {
   "cell_type": "code",
   "execution_count": 7,
   "metadata": {},
   "outputs": [],
   "source": [
    "create_table(conn, sql_create_authors_table)\n",
    "create_table(conn, sql_create_books_table)"
   ]
  },
  {
   "cell_type": "markdown",
   "metadata": {},
   "source": [
    "Criando registros no banco de dados"
   ]
  },
  {
   "cell_type": "code",
   "execution_count": 12,
   "metadata": {},
   "outputs": [],
   "source": [
    "def create_records(conn, table, values):\n",
    "\tif table == \"authors\":\n",
    "\t\tsql = \"INSERT INTO authors(name,born_date) VALUES(?,?)\"\n",
    "\telif table == \"books\":\n",
    "\t\tsql = \"INSERT INTO books(title,author_id) VALUES(?,?)\"\n",
    "\tif len(values)==2:\n",
    "\t\twith conn:cur.execute(sql, values)\n",
    "\telse:\n",
    "\t\twith conn:cur.executemany(sql, values)\n",
    "\treturn cur.lastrowid"
   ]
  },
  {
   "cell_type": "code",
   "execution_count": 13,
   "metadata": {},
   "outputs": [
    {
     "name": "stdout",
     "output_type": "stream",
     "text": [
      "[('Brave New World', 2), ('The Perennial Philosophy', 2), ('The Doors of Perception', 2), ('The Art of Seeing', 2), ('Update Field', 5)]\n"
     ]
    }
   ],
   "source": [
    "with conn:\n",
    "\tauthor_values = ('Aldous Huxley', '1894-07-26')\n",
    "\tauthor_id = create_records(conn, \"authors\", author_values)\n",
    "\n",
    "\tbooks_values = [\n",
    "\t\t('Brave New World', author_id),\n",
    "\t\t('The Perennial Philosophy', author_id),\n",
    "\t\t('The Doors of Perception', author_id),\n",
    "\t\t('The Art of Seeing', author_id),\n",
    "\t\t('Update Field', 5)\n",
    "\t]\n",
    "\n",
    "\tprint(books_values)\n",
    "\tcreate_records(conn, \"books\", books_values)"
   ]
  },
  {
   "cell_type": "code",
   "execution_count": 32,
   "metadata": {},
   "outputs": [
    {
     "name": "stdout",
     "output_type": "stream",
     "text": [
      "[(1, 'Aldous Huxley', '1894-07-26'), (2, 'Aldous Huxley', '1894-07-26')]\n"
     ]
    }
   ],
   "source": [
    "cur.execute('SELECT * from books')\n",
    "result = cur.fetchall()\n",
    "print(result)"
   ]
  },
  {
   "cell_type": "code",
   "execution_count": 15,
   "metadata": {},
   "outputs": [
    {
     "name": "stdout",
     "output_type": "stream",
     "text": [
      "(1, 'Brave New World', 2)\n",
      "(2, 'The Perennial Philosophy', 2)\n",
      "(3, 'The Doors of Perception', 2)\n",
      "(4, 'The Art of Seeing', 2)\n",
      "(5, 'Update Field', 5)\n"
     ]
    }
   ],
   "source": [
    "for row in result:\n",
    "    print(row)"
   ]
  },
  {
   "cell_type": "markdown",
   "metadata": {},
   "source": [
    "### SQLAlchemy"
   ]
  },
  {
   "cell_type": "code",
   "execution_count": 16,
   "metadata": {},
   "outputs": [],
   "source": [
    "from sqlalchemy import create_engine, MetaData, Table, select, text"
   ]
  },
  {
   "cell_type": "code",
   "execution_count": null,
   "metadata": {},
   "outputs": [],
   "source": [
    "#engine = create_engine(\"sqlite:///aula04.db\", echo=True)\n",
    "engine = create_engine(\"sqlite:///aula04.db\")"
   ]
  },
  {
   "cell_type": "code",
   "execution_count": 21,
   "metadata": {},
   "outputs": [],
   "source": [
    "sql = text('SELECT * from books')"
   ]
  },
  {
   "cell_type": "code",
   "execution_count": 22,
   "metadata": {},
   "outputs": [
    {
     "name": "stdout",
     "output_type": "stream",
     "text": [
      "[(1, 'Brave New World', 2), (2, 'The Perennial Philosophy', 2), (3, 'The Doors of Perception', 2), (4, 'The Art of Seeing', 2), (5, 'Update Field', 5)]\n"
     ]
    }
   ],
   "source": [
    "with engine.connect() as conn:\n",
    "    result = conn.execute(sql)\n",
    "    print(result.fetchall())"
   ]
  },
  {
   "cell_type": "code",
   "execution_count": 23,
   "metadata": {},
   "outputs": [],
   "source": [
    "metadata = MetaData()"
   ]
  },
  {
   "cell_type": "code",
   "execution_count": 24,
   "metadata": {},
   "outputs": [],
   "source": [
    "t = Table(\"books\", metadata, autoload_with=engine)"
   ]
  },
  {
   "cell_type": "code",
   "execution_count": 31,
   "metadata": {},
   "outputs": [
    {
     "data": {
      "text/plain": [
       "['id', 'title', 'author_id']"
      ]
     },
     "execution_count": 31,
     "metadata": {},
     "output_type": "execute_result"
    }
   ],
   "source": [
    "[column.key for column in t.columns]"
   ]
  },
  {
   "cell_type": "code",
   "execution_count": 29,
   "metadata": {},
   "outputs": [
    {
     "name": "stdout",
     "output_type": "stream",
     "text": [
      "SELECT books.title, books.author_id \n",
      "FROM books \n",
      "WHERE books.author_id = :author_id_1\n"
     ]
    }
   ],
   "source": [
    "sql = (select(t.columns.title,t.c.author_id).where(t.c.author_id == 2))\n",
    "print(sql)"
   ]
  },
  {
   "cell_type": "code",
   "execution_count": 30,
   "metadata": {},
   "outputs": [
    {
     "name": "stdout",
     "output_type": "stream",
     "text": [
      "[('Brave New World', 2), ('The Perennial Philosophy', 2), ('The Doors of Perception', 2), ('The Art of Seeing', 2)]\n"
     ]
    }
   ],
   "source": [
    "with engine.connect() as conn:\n",
    "    result = conn.execute(sql)\n",
    "    print(result.fetchall())"
   ]
  }
 ],
 "metadata": {
  "kernelspec": {
   "display_name": "base",
   "language": "python",
   "name": "python3"
  },
  "language_info": {
   "codemirror_mode": {
    "name": "ipython",
    "version": 3
   },
   "file_extension": ".py",
   "mimetype": "text/x-python",
   "name": "python",
   "nbconvert_exporter": "python",
   "pygments_lexer": "ipython3",
   "version": "3.12.4"
  }
 },
 "nbformat": 4,
 "nbformat_minor": 2
}
